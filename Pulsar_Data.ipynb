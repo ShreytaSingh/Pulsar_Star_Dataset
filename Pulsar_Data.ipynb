{
  "nbformat": 4,
  "nbformat_minor": 0,
  "metadata": {
    "colab": {
      "name": "Pulsar Data.ipynb",
      "provenance": []
    },
    "kernelspec": {
      "name": "python3",
      "display_name": "Python 3"
    },
    "language_info": {
      "name": "python"
    }
  },
  "cells": [
    {
      "cell_type": "code",
      "metadata": {
        "id": "QJMb-c2zcVLp"
      },
      "source": [
        "import numpy as np\n",
        "import pandas as pd"
      ],
      "execution_count": null,
      "outputs": []
    },
    {
      "cell_type": "code",
      "metadata": {
        "id": "0MJMuLZpctiY"
      },
      "source": [
        "df=pd.read_csv(\"/content/pulsar_data_train.csv\")"
      ],
      "execution_count": null,
      "outputs": []
    },
    {
      "cell_type": "code",
      "metadata": {
        "colab": {
          "base_uri": "https://localhost:8080/",
          "height": 254
        },
        "id": "DfvzRI2uctj9",
        "outputId": "bb797e83-c339-49d0-f027-aeb30acc84e3"
      },
      "source": [
        "df.head()"
      ],
      "execution_count": null,
      "outputs": [
        {
          "output_type": "execute_result",
          "data": {
            "text/html": [
              "<div>\n",
              "<style scoped>\n",
              "    .dataframe tbody tr th:only-of-type {\n",
              "        vertical-align: middle;\n",
              "    }\n",
              "\n",
              "    .dataframe tbody tr th {\n",
              "        vertical-align: top;\n",
              "    }\n",
              "\n",
              "    .dataframe thead th {\n",
              "        text-align: right;\n",
              "    }\n",
              "</style>\n",
              "<table border=\"1\" class=\"dataframe\">\n",
              "  <thead>\n",
              "    <tr style=\"text-align: right;\">\n",
              "      <th></th>\n",
              "      <th>Mean of the integrated profile</th>\n",
              "      <th>Standard deviation of the integrated profile</th>\n",
              "      <th>Excess kurtosis of the integrated profile</th>\n",
              "      <th>Skewness of the integrated profile</th>\n",
              "      <th>Mean of the DM-SNR curve</th>\n",
              "      <th>Standard deviation of the DM-SNR curve</th>\n",
              "      <th>Excess kurtosis of the DM-SNR curve</th>\n",
              "      <th>Skewness of the DM-SNR curve</th>\n",
              "      <th>target_class</th>\n",
              "    </tr>\n",
              "  </thead>\n",
              "  <tbody>\n",
              "    <tr>\n",
              "      <th>0</th>\n",
              "      <td>121.156250</td>\n",
              "      <td>48.372971</td>\n",
              "      <td>0.375485</td>\n",
              "      <td>-0.013165</td>\n",
              "      <td>3.168896</td>\n",
              "      <td>18.399367</td>\n",
              "      <td>7.449874</td>\n",
              "      <td>65.159298</td>\n",
              "      <td>0.0</td>\n",
              "    </tr>\n",
              "    <tr>\n",
              "      <th>1</th>\n",
              "      <td>76.968750</td>\n",
              "      <td>36.175557</td>\n",
              "      <td>0.712898</td>\n",
              "      <td>3.388719</td>\n",
              "      <td>2.399666</td>\n",
              "      <td>17.570997</td>\n",
              "      <td>9.414652</td>\n",
              "      <td>102.722975</td>\n",
              "      <td>0.0</td>\n",
              "    </tr>\n",
              "    <tr>\n",
              "      <th>2</th>\n",
              "      <td>130.585938</td>\n",
              "      <td>53.229534</td>\n",
              "      <td>0.133408</td>\n",
              "      <td>-0.297242</td>\n",
              "      <td>2.743311</td>\n",
              "      <td>22.362553</td>\n",
              "      <td>8.508364</td>\n",
              "      <td>74.031324</td>\n",
              "      <td>0.0</td>\n",
              "    </tr>\n",
              "    <tr>\n",
              "      <th>3</th>\n",
              "      <td>156.398438</td>\n",
              "      <td>48.865942</td>\n",
              "      <td>-0.215989</td>\n",
              "      <td>-0.171294</td>\n",
              "      <td>17.471572</td>\n",
              "      <td>NaN</td>\n",
              "      <td>2.958066</td>\n",
              "      <td>7.197842</td>\n",
              "      <td>0.0</td>\n",
              "    </tr>\n",
              "    <tr>\n",
              "      <th>4</th>\n",
              "      <td>84.804688</td>\n",
              "      <td>36.117659</td>\n",
              "      <td>0.825013</td>\n",
              "      <td>3.274125</td>\n",
              "      <td>2.790134</td>\n",
              "      <td>20.618009</td>\n",
              "      <td>8.405008</td>\n",
              "      <td>76.291128</td>\n",
              "      <td>0.0</td>\n",
              "    </tr>\n",
              "  </tbody>\n",
              "</table>\n",
              "</div>"
            ],
            "text/plain": [
              "    Mean of the integrated profile  ...  target_class\n",
              "0                       121.156250  ...           0.0\n",
              "1                        76.968750  ...           0.0\n",
              "2                       130.585938  ...           0.0\n",
              "3                       156.398438  ...           0.0\n",
              "4                        84.804688  ...           0.0\n",
              "\n",
              "[5 rows x 9 columns]"
            ]
          },
          "metadata": {},
          "execution_count": 3
        }
      ]
    },
    {
      "cell_type": "code",
      "metadata": {
        "colab": {
          "base_uri": "https://localhost:8080/"
        },
        "id": "kXP1DKpuctoi",
        "outputId": "848bd528-ff0e-4311-acf8-9c5f1f83cf7b"
      },
      "source": [
        "df['target_class'].value_counts"
      ],
      "execution_count": null,
      "outputs": [
        {
          "output_type": "execute_result",
          "data": {
            "text/plain": [
              "<bound method IndexOpsMixin.value_counts of 0        0.0\n",
              "1        0.0\n",
              "2        0.0\n",
              "3        0.0\n",
              "4        0.0\n",
              "        ... \n",
              "12523    0.0\n",
              "12524    0.0\n",
              "12525    0.0\n",
              "12526    0.0\n",
              "12527    0.0\n",
              "Name: target_class, Length: 12528, dtype: float64>"
            ]
          },
          "metadata": {},
          "execution_count": 4
        }
      ]
    },
    {
      "cell_type": "code",
      "metadata": {
        "colab": {
          "base_uri": "https://localhost:8080/"
        },
        "id": "SJKPz92Zd9o8",
        "outputId": "ae01d4f2-c51e-40d6-e3fd-fb233eb9aec4"
      },
      "source": [
        "df.info()"
      ],
      "execution_count": null,
      "outputs": [
        {
          "output_type": "stream",
          "name": "stdout",
          "text": [
            "<class 'pandas.core.frame.DataFrame'>\n",
            "RangeIndex: 12528 entries, 0 to 12527\n",
            "Data columns (total 9 columns):\n",
            " #   Column                                         Non-Null Count  Dtype  \n",
            "---  ------                                         --------------  -----  \n",
            " 0    Mean of the integrated profile                12528 non-null  float64\n",
            " 1    Standard deviation of the integrated profile  12528 non-null  float64\n",
            " 2    Excess kurtosis of the integrated profile     10793 non-null  float64\n",
            " 3    Skewness of the integrated profile            12528 non-null  float64\n",
            " 4    Mean of the DM-SNR curve                      12528 non-null  float64\n",
            " 5    Standard deviation of the DM-SNR curve        11350 non-null  float64\n",
            " 6    Excess kurtosis of the DM-SNR curve           12528 non-null  float64\n",
            " 7    Skewness of the DM-SNR curve                  11903 non-null  float64\n",
            " 8   target_class                                   12528 non-null  float64\n",
            "dtypes: float64(9)\n",
            "memory usage: 881.0 KB\n"
          ]
        }
      ]
    },
    {
      "cell_type": "code",
      "metadata": {
        "id": "jJwfQso4d9qW"
      },
      "source": [
        "#df['target_class].replace({0.0:0,1:0.1},inplace=True)\n",
        "#df['target_class']=int(df[\"target_class\"])\n",
        "df[\"target_class\"]=df[\"target_class\"].astype(int)"
      ],
      "execution_count": null,
      "outputs": []
    },
    {
      "cell_type": "code",
      "metadata": {
        "colab": {
          "base_uri": "https://localhost:8080/",
          "height": 254
        },
        "id": "LcxTF6OXd9vQ",
        "outputId": "ce91dada-2f63-4a2e-dc79-fb57de07fd3e"
      },
      "source": [
        "df.head()"
      ],
      "execution_count": null,
      "outputs": [
        {
          "output_type": "execute_result",
          "data": {
            "text/html": [
              "<div>\n",
              "<style scoped>\n",
              "    .dataframe tbody tr th:only-of-type {\n",
              "        vertical-align: middle;\n",
              "    }\n",
              "\n",
              "    .dataframe tbody tr th {\n",
              "        vertical-align: top;\n",
              "    }\n",
              "\n",
              "    .dataframe thead th {\n",
              "        text-align: right;\n",
              "    }\n",
              "</style>\n",
              "<table border=\"1\" class=\"dataframe\">\n",
              "  <thead>\n",
              "    <tr style=\"text-align: right;\">\n",
              "      <th></th>\n",
              "      <th>Mean of the integrated profile</th>\n",
              "      <th>Standard deviation of the integrated profile</th>\n",
              "      <th>Excess kurtosis of the integrated profile</th>\n",
              "      <th>Skewness of the integrated profile</th>\n",
              "      <th>Mean of the DM-SNR curve</th>\n",
              "      <th>Standard deviation of the DM-SNR curve</th>\n",
              "      <th>Excess kurtosis of the DM-SNR curve</th>\n",
              "      <th>Skewness of the DM-SNR curve</th>\n",
              "      <th>target_class</th>\n",
              "    </tr>\n",
              "  </thead>\n",
              "  <tbody>\n",
              "    <tr>\n",
              "      <th>0</th>\n",
              "      <td>121.156250</td>\n",
              "      <td>48.372971</td>\n",
              "      <td>0.375485</td>\n",
              "      <td>-0.013165</td>\n",
              "      <td>3.168896</td>\n",
              "      <td>18.399367</td>\n",
              "      <td>7.449874</td>\n",
              "      <td>65.159298</td>\n",
              "      <td>0</td>\n",
              "    </tr>\n",
              "    <tr>\n",
              "      <th>1</th>\n",
              "      <td>76.968750</td>\n",
              "      <td>36.175557</td>\n",
              "      <td>0.712898</td>\n",
              "      <td>3.388719</td>\n",
              "      <td>2.399666</td>\n",
              "      <td>17.570997</td>\n",
              "      <td>9.414652</td>\n",
              "      <td>102.722975</td>\n",
              "      <td>0</td>\n",
              "    </tr>\n",
              "    <tr>\n",
              "      <th>2</th>\n",
              "      <td>130.585938</td>\n",
              "      <td>53.229534</td>\n",
              "      <td>0.133408</td>\n",
              "      <td>-0.297242</td>\n",
              "      <td>2.743311</td>\n",
              "      <td>22.362553</td>\n",
              "      <td>8.508364</td>\n",
              "      <td>74.031324</td>\n",
              "      <td>0</td>\n",
              "    </tr>\n",
              "    <tr>\n",
              "      <th>3</th>\n",
              "      <td>156.398438</td>\n",
              "      <td>48.865942</td>\n",
              "      <td>-0.215989</td>\n",
              "      <td>-0.171294</td>\n",
              "      <td>17.471572</td>\n",
              "      <td>NaN</td>\n",
              "      <td>2.958066</td>\n",
              "      <td>7.197842</td>\n",
              "      <td>0</td>\n",
              "    </tr>\n",
              "    <tr>\n",
              "      <th>4</th>\n",
              "      <td>84.804688</td>\n",
              "      <td>36.117659</td>\n",
              "      <td>0.825013</td>\n",
              "      <td>3.274125</td>\n",
              "      <td>2.790134</td>\n",
              "      <td>20.618009</td>\n",
              "      <td>8.405008</td>\n",
              "      <td>76.291128</td>\n",
              "      <td>0</td>\n",
              "    </tr>\n",
              "  </tbody>\n",
              "</table>\n",
              "</div>"
            ],
            "text/plain": [
              "    Mean of the integrated profile  ...  target_class\n",
              "0                       121.156250  ...             0\n",
              "1                        76.968750  ...             0\n",
              "2                       130.585938  ...             0\n",
              "3                       156.398438  ...             0\n",
              "4                        84.804688  ...             0\n",
              "\n",
              "[5 rows x 9 columns]"
            ]
          },
          "metadata": {},
          "execution_count": 7
        }
      ]
    },
    {
      "cell_type": "code",
      "metadata": {
        "id": "pheL6a7LctqD"
      },
      "source": [
        "df['target_class']=df[\"target_class\"].replace({0.0:0,1.0:1})"
      ],
      "execution_count": null,
      "outputs": []
    },
    {
      "cell_type": "code",
      "metadata": {
        "colab": {
          "base_uri": "https://localhost:8080/"
        },
        "id": "vl4hA_H6ctu9",
        "outputId": "8abe91b7-b052-4a3b-9592-5d04361b3d92"
      },
      "source": [
        "df.isnull().sum()"
      ],
      "execution_count": null,
      "outputs": [
        {
          "output_type": "execute_result",
          "data": {
            "text/plain": [
              " Mean of the integrated profile                     0\n",
              " Standard deviation of the integrated profile       0\n",
              " Excess kurtosis of the integrated profile       1735\n",
              " Skewness of the integrated profile                 0\n",
              " Mean of the DM-SNR curve                           0\n",
              " Standard deviation of the DM-SNR curve          1178\n",
              " Excess kurtosis of the DM-SNR curve                0\n",
              " Skewness of the DM-SNR curve                     625\n",
              "target_class                                        0\n",
              "dtype: int64"
            ]
          },
          "metadata": {},
          "execution_count": 9
        }
      ]
    },
    {
      "cell_type": "code",
      "metadata": {
        "id": "7PVNHjqHL3Iw"
      },
      "source": [
        "df[\" Excess kurtosis of the integrated profile\"] = df.fillna(df.groupby(\"target_class\")[\" Excess kurtosis of the integrated profile\"].mean()) "
      ],
      "execution_count": null,
      "outputs": []
    },
    {
      "cell_type": "code",
      "metadata": {
        "colab": {
          "base_uri": "https://localhost:8080/"
        },
        "id": "07FOirOCfCML",
        "outputId": "f1aa9a7f-2e4b-4e1d-f78b-8329143ae418"
      },
      "source": [
        "df.isnull().sum()"
      ],
      "execution_count": null,
      "outputs": [
        {
          "output_type": "execute_result",
          "data": {
            "text/plain": [
              " Mean of the integrated profile                     0\n",
              " Standard deviation of the integrated profile       0\n",
              " Excess kurtosis of the integrated profile          0\n",
              " Skewness of the integrated profile                 0\n",
              " Mean of the DM-SNR curve                           0\n",
              " Standard deviation of the DM-SNR curve          1178\n",
              " Excess kurtosis of the DM-SNR curve                0\n",
              " Skewness of the DM-SNR curve                     625\n",
              "target_class                                        0\n",
              "dtype: int64"
            ]
          },
          "metadata": {},
          "execution_count": 11
        }
      ]
    },
    {
      "cell_type": "code",
      "metadata": {
        "colab": {
          "base_uri": "https://localhost:8080/"
        },
        "id": "FAtb4CIAfecZ",
        "outputId": "898fb91b-e407-44a1-fa80-934f88cd9070"
      },
      "source": [
        "df[\" Standard deviation of the DM-SNR curve\"] = df.fillna(df.groupby(\"target_class\")[\" Standard deviation of the DM-SNR curve\"].mean()) \n",
        "df[\" Skewness of the DM-SNR curve\"] = df.fillna(df.groupby(\"target_class\")[\" Skewness of the DM-SNR curve\"].mean()) \n",
        "df.isnull().sum()"
      ],
      "execution_count": null,
      "outputs": [
        {
          "output_type": "execute_result",
          "data": {
            "text/plain": [
              " Mean of the integrated profile                  0\n",
              " Standard deviation of the integrated profile    0\n",
              " Excess kurtosis of the integrated profile       0\n",
              " Skewness of the integrated profile              0\n",
              " Mean of the DM-SNR curve                        0\n",
              " Standard deviation of the DM-SNR curve          0\n",
              " Excess kurtosis of the DM-SNR curve             0\n",
              " Skewness of the DM-SNR curve                    0\n",
              "target_class                                     0\n",
              "dtype: int64"
            ]
          },
          "metadata": {},
          "execution_count": 12
        }
      ]
    },
    {
      "cell_type": "code",
      "metadata": {
        "id": "Hzw9YxVffeeC"
      },
      "source": [
        "y = df[\"target_class\"]\n",
        "X = df.drop(\"target_class\", axis = 1)"
      ],
      "execution_count": null,
      "outputs": []
    },
    {
      "cell_type": "code",
      "metadata": {
        "colab": {
          "base_uri": "https://localhost:8080/"
        },
        "id": "oq7PeuTwfeit",
        "outputId": "a8ac5b51-9426-4524-e909-7e4fe6eec663"
      },
      "source": [
        "y.head()"
      ],
      "execution_count": null,
      "outputs": [
        {
          "output_type": "execute_result",
          "data": {
            "text/plain": [
              "0    0\n",
              "1    0\n",
              "2    0\n",
              "3    0\n",
              "4    0\n",
              "Name: target_class, dtype: int64"
            ]
          },
          "metadata": {},
          "execution_count": 14
        }
      ]
    },
    {
      "cell_type": "code",
      "metadata": {
        "id": "ZwXIJ3syfekU"
      },
      "source": [
        "from sklearn.model_selection import train_test_split "
      ],
      "execution_count": null,
      "outputs": []
    },
    {
      "cell_type": "code",
      "metadata": {
        "id": "iv4gkgQ3f13V"
      },
      "source": [
        "X_train, X_test, y_train, y_test = train_test_split(X, y, test_size=0.25, stratify = y, random_state=25)"
      ],
      "execution_count": null,
      "outputs": []
    },
    {
      "cell_type": "code",
      "metadata": {
        "id": "fao6p8P2fsOH",
        "colab": {
          "base_uri": "https://localhost:8080/"
        },
        "outputId": "c259e7fc-efe4-49d9-a011-13d41321b2fe"
      },
      "source": [
        "from imblearn.over_sampling import SMOTE"
      ],
      "execution_count": null,
      "outputs": [
        {
          "output_type": "stream",
          "name": "stderr",
          "text": [
            "/usr/local/lib/python3.7/dist-packages/sklearn/externals/six.py:31: FutureWarning: The module is deprecated in version 0.21 and will be removed in version 0.23 since we've dropped support for Python 2.7. Please rely on the official version of six (https://pypi.org/project/six/).\n",
            "  \"(https://pypi.org/project/six/).\", FutureWarning)\n",
            "/usr/local/lib/python3.7/dist-packages/sklearn/utils/deprecation.py:144: FutureWarning: The sklearn.neighbors.base module is  deprecated in version 0.22 and will be removed in version 0.24. The corresponding classes / functions should instead be imported from sklearn.neighbors. Anything that cannot be imported from sklearn.neighbors is now part of the private API.\n",
            "  warnings.warn(message, FutureWarning)\n"
          ]
        }
      ]
    },
    {
      "cell_type": "code",
      "metadata": {
        "colab": {
          "base_uri": "https://localhost:8080/"
        },
        "id": "UKXc1pbRfsSa",
        "outputId": "d9c164de-ac58-46f4-aa91-f5772faef317"
      },
      "source": [
        "over = SMOTE()\n",
        "ox, oy = over.fit_resample(X_train, y_train)"
      ],
      "execution_count": null,
      "outputs": [
        {
          "output_type": "stream",
          "name": "stderr",
          "text": [
            "/usr/local/lib/python3.7/dist-packages/sklearn/utils/deprecation.py:87: FutureWarning: Function safe_indexing is deprecated; safe_indexing is deprecated in version 0.22 and will be removed in version 0.24.\n",
            "  warnings.warn(msg, category=FutureWarning)\n"
          ]
        }
      ]
    },
    {
      "cell_type": "code",
      "metadata": {
        "id": "0rnU9_vcfsUD"
      },
      "source": [
        "from sklearn.linear_model import LogisticRegression"
      ],
      "execution_count": null,
      "outputs": []
    },
    {
      "cell_type": "code",
      "metadata": {
        "id": "tJcKVwQhf7QM"
      },
      "source": [
        "logreg = LogisticRegression()"
      ],
      "execution_count": null,
      "outputs": []
    },
    {
      "cell_type": "code",
      "metadata": {
        "colab": {
          "base_uri": "https://localhost:8080/"
        },
        "id": "Mcg_SmV5f7Rz",
        "outputId": "c59d39c5-1dd8-4e96-e920-c3af7e56f270"
      },
      "source": [
        "logreg.fit(ox,oy)"
      ],
      "execution_count": null,
      "outputs": [
        {
          "output_type": "execute_result",
          "data": {
            "text/plain": [
              "LogisticRegression(C=1.0, class_weight=None, dual=False, fit_intercept=True,\n",
              "                   intercept_scaling=1, l1_ratio=None, max_iter=100,\n",
              "                   multi_class='auto', n_jobs=None, penalty='l2',\n",
              "                   random_state=None, solver='lbfgs', tol=0.0001, verbose=0,\n",
              "                   warm_start=False)"
            ]
          },
          "metadata": {},
          "execution_count": 21
        }
      ]
    },
    {
      "cell_type": "code",
      "metadata": {
        "colab": {
          "base_uri": "https://localhost:8080/"
        },
        "id": "JD_f42F5f7Wb",
        "outputId": "90390a93-1cc2-44e0-9931-94a42742032d"
      },
      "source": [
        "print(logreg.score(ox,oy))\n",
        "print(logreg.score(X_test,y_test))\n"
      ],
      "execution_count": null,
      "outputs": [
        {
          "output_type": "stream",
          "name": "stdout",
          "text": [
            "0.9218145586683859\n",
            "0.9549808429118773\n"
          ]
        }
      ]
    },
    {
      "cell_type": "code",
      "metadata": {
        "id": "hxnBTQzGfsZB"
      },
      "source": [
        "from sklearn.tree import DecisionTreeClassifier"
      ],
      "execution_count": null,
      "outputs": []
    },
    {
      "cell_type": "code",
      "metadata": {
        "id": "tuMnnNCRgUZS"
      },
      "source": [
        "dctree = DecisionTreeClassifier(max_depth=4)"
      ],
      "execution_count": null,
      "outputs": []
    },
    {
      "cell_type": "code",
      "metadata": {
        "colab": {
          "base_uri": "https://localhost:8080/"
        },
        "id": "awQWEDf2gl02",
        "outputId": "50a773cf-bc3a-4f12-d80f-dd7d9e2f519e"
      },
      "source": [
        "dctree.fit(ox,oy)"
      ],
      "execution_count": null,
      "outputs": [
        {
          "output_type": "execute_result",
          "data": {
            "text/plain": [
              "DecisionTreeClassifier(ccp_alpha=0.0, class_weight=None, criterion='gini',\n",
              "                       max_depth=4, max_features=None, max_leaf_nodes=None,\n",
              "                       min_impurity_decrease=0.0, min_impurity_split=None,\n",
              "                       min_samples_leaf=1, min_samples_split=2,\n",
              "                       min_weight_fraction_leaf=0.0, presort='deprecated',\n",
              "                       random_state=None, splitter='best')"
            ]
          },
          "metadata": {},
          "execution_count": 25
        }
      ]
    },
    {
      "cell_type": "code",
      "metadata": {
        "colab": {
          "base_uri": "https://localhost:8080/"
        },
        "id": "3ZpB1vzkgUa3",
        "outputId": "14092ceb-4e94-4be1-b7e7-11508d2a17f2"
      },
      "source": [
        "print(dctree.score(ox,oy))\n",
        "print(dctree.score(X_test,y_test))"
      ],
      "execution_count": null,
      "outputs": [
        {
          "output_type": "stream",
          "name": "stdout",
          "text": [
            "0.9310749032938694\n",
            "0.9482758620689655\n"
          ]
        }
      ]
    },
    {
      "cell_type": "code",
      "metadata": {
        "id": "WHZ29gKlgUex"
      },
      "source": [
        "from sklearn.ensemble import RandomForestClassifier"
      ],
      "execution_count": null,
      "outputs": []
    },
    {
      "cell_type": "code",
      "metadata": {
        "id": "4rKF-6khgUgY"
      },
      "source": [
        "rftree = RandomForestClassifier()"
      ],
      "execution_count": null,
      "outputs": []
    },
    {
      "cell_type": "code",
      "metadata": {
        "colab": {
          "base_uri": "https://localhost:8080/"
        },
        "id": "YyNPwpt1gwUd",
        "outputId": "8ea390a4-7a84-43ad-8960-71453437d064"
      },
      "source": [
        "rftree.fit(ox,oy)"
      ],
      "execution_count": null,
      "outputs": [
        {
          "output_type": "execute_result",
          "data": {
            "text/plain": [
              "RandomForestClassifier(bootstrap=True, ccp_alpha=0.0, class_weight=None,\n",
              "                       criterion='gini', max_depth=None, max_features='auto',\n",
              "                       max_leaf_nodes=None, max_samples=None,\n",
              "                       min_impurity_decrease=0.0, min_impurity_split=None,\n",
              "                       min_samples_leaf=1, min_samples_split=2,\n",
              "                       min_weight_fraction_leaf=0.0, n_estimators=100,\n",
              "                       n_jobs=None, oob_score=False, random_state=None,\n",
              "                       verbose=0, warm_start=False)"
            ]
          },
          "metadata": {},
          "execution_count": 29
        }
      ]
    },
    {
      "cell_type": "code",
      "metadata": {
        "colab": {
          "base_uri": "https://localhost:8080/"
        },
        "id": "mSTsgDVagy7e",
        "outputId": "242a521c-4305-4808-8e70-a774f6a14926"
      },
      "source": [
        "print(rftree.score(ox,oy))\n",
        "print(rftree.score(X_test,y_test))"
      ],
      "execution_count": null,
      "outputs": [
        {
          "output_type": "stream",
          "name": "stdout",
          "text": [
            "1.0\n",
            "0.9703065134099617\n"
          ]
        }
      ]
    },
    {
      "cell_type": "code",
      "metadata": {
        "id": "ZzK2tr8ggy9L"
      },
      "source": [
        "from sklearn.svm import LinearSVC \n",
        "from sklearn.svm import SVC "
      ],
      "execution_count": null,
      "outputs": []
    },
    {
      "cell_type": "code",
      "metadata": {
        "id": "JNFWcI10gzBz"
      },
      "source": [
        "svmmodel = SVC()"
      ],
      "execution_count": null,
      "outputs": []
    },
    {
      "cell_type": "code",
      "metadata": {
        "colab": {
          "base_uri": "https://localhost:8080/"
        },
        "id": "E30KZ5i9g4u_",
        "outputId": "f2905d51-7d0d-4a37-e16f-edd4f31f8513"
      },
      "source": [
        "svmmodel.fit(ox,oy)"
      ],
      "execution_count": null,
      "outputs": [
        {
          "output_type": "execute_result",
          "data": {
            "text/plain": [
              "SVC(C=1.0, break_ties=False, cache_size=200, class_weight=None, coef0=0.0,\n",
              "    decision_function_shape='ovr', degree=3, gamma='scale', kernel='rbf',\n",
              "    max_iter=-1, probability=False, random_state=None, shrinking=True,\n",
              "    tol=0.001, verbose=False)"
            ]
          },
          "metadata": {},
          "execution_count": 33
        }
      ]
    },
    {
      "cell_type": "code",
      "metadata": {
        "colab": {
          "base_uri": "https://localhost:8080/"
        },
        "id": "wTJ1rllAg4wm",
        "outputId": "75d0e374-77da-4697-ba6b-422a55201d7f"
      },
      "source": [
        "print(svmmodel.score(ox,oy))\n",
        "print(svmmodel.score(X_test,y_test))"
      ],
      "execution_count": null,
      "outputs": [
        {
          "output_type": "stream",
          "name": "stdout",
          "text": [
            "0.9211698511311687\n",
            "0.9629629629629629\n"
          ]
        }
      ]
    },
    {
      "cell_type": "code",
      "metadata": {
        "colab": {
          "base_uri": "https://localhost:8080/"
        },
        "id": "GiF5Tul6g413",
        "outputId": "0d89e4de-1e8d-4f4e-ad5b-fa211563d379"
      },
      "source": [
        "X_test.value_counts()"
      ],
      "execution_count": null,
      "outputs": [
        {
          "output_type": "execute_result",
          "data": {
            "text/plain": [
              " Mean of the integrated profile   Standard deviation of the integrated profile   Excess kurtosis of the integrated profile   Skewness of the integrated profile   Mean of the DM-SNR curve   Standard deviation of the DM-SNR curve   Excess kurtosis of the DM-SNR curve   Skewness of the DM-SNR curve\n",
              "180.859375                       45.321893                                      180.859375                                   2.688960                            113.184783                 180.859375                               -0.180276                             180.859375                       1\n",
              "106.195312                       48.743919                                      106.195312                                  -0.169074                            2.375418                   106.195312                                9.400540                             106.195312                       1\n",
              "106.531250                       49.524605                                      106.531250                                  -0.022098                            1.411371                   106.531250                                13.063341                            106.531250                       1\n",
              "                                 45.134857                                      106.531250                                   0.715394                            4.015886                   106.531250                                7.040499                             106.531250                       1\n",
              "106.523438                       43.606186                                      106.523438                                   1.136205                            2.262542                   106.523438                                9.827439                             106.523438                       1\n",
              "                                                                                                                                                                                                                                                                                                           ..\n",
              "123.179688                       49.629791                                      123.179688                                   0.147166                            1.647157                   123.179688                                11.612288                            123.179688                       1\n",
              "123.171875                       48.013037                                      123.171875                                   0.361692                            3.188963                   123.171875                                7.697428                             123.171875                       1\n",
              "                                 46.183247                                      123.171875                                   0.526146                            0.988294                   123.171875                                14.763187                            123.171875                       1\n",
              "123.164062                       52.633131                                      123.164062                                  -0.198034                            2.739130                   123.164062                                8.588997                             123.164062                       1\n",
              "5.812500                         30.631313                                      5.812500                                     51.591382                           149.070234                 5.812500                                  0.237403                             5.812500                         1\n",
              "Length: 3132, dtype: int64"
            ]
          },
          "metadata": {},
          "execution_count": 35
        }
      ]
    },
    {
      "cell_type": "code",
      "metadata": {
        "colab": {
          "base_uri": "https://localhost:8080/"
        },
        "id": "-f3bEbbWg43j",
        "outputId": "724e1352-e62b-4e50-e60f-d642485e8f19"
      },
      "source": [
        "y_test.value_counts()"
      ],
      "execution_count": null,
      "outputs": [
        {
          "output_type": "execute_result",
          "data": {
            "text/plain": [
              "0    2844\n",
              "1     288\n",
              "Name: target_class, dtype: int64"
            ]
          },
          "metadata": {},
          "execution_count": 36
        }
      ]
    },
    {
      "cell_type": "code",
      "metadata": {
        "id": "VB7UT5q5hESZ"
      },
      "source": [
        "from sklearn.metrics import precision_score\n"
      ],
      "execution_count": null,
      "outputs": []
    },
    {
      "cell_type": "code",
      "metadata": {
        "colab": {
          "base_uri": "https://localhost:8080/"
        },
        "id": "pEr2Ask0hEUE",
        "outputId": "b1cc4dbf-afc0-40c3-8bf2-9d65f3ee1c0c"
      },
      "source": [
        "y_pred = svmmodel.predict(X_test)\n",
        "print(y_pred[:100])"
      ],
      "execution_count": null,
      "outputs": [
        {
          "output_type": "stream",
          "name": "stdout",
          "text": [
            "[0 0 0 0 0 0 0 0 0 0 0 0 0 0 0 0 0 0 0 0 0 0 1 0 0 0 0 0 0 0 0 0 0 0 1 0 0\n",
            " 0 1 0 0 0 0 0 0 0 0 0 0 0 0 0 0 0 1 0 0 0 0 0 0 0 0 1 0 0 0 0 0 0 0 0 0 0\n",
            " 1 0 0 0 0 0 0 0 0 0 1 0 0 0 0 0 1 0 0 0 1 1 0 0 0 0]\n"
          ]
        }
      ]
    },
    {
      "cell_type": "code",
      "metadata": {
        "colab": {
          "base_uri": "https://localhost:8080/"
        },
        "id": "AaPmvPLchEYe",
        "outputId": "7ab762d9-edb0-4c6b-be36-b1a84b197f79"
      },
      "source": [
        "precision_score(y_test, y_pred)"
      ],
      "execution_count": null,
      "outputs": [
        {
          "output_type": "execute_result",
          "data": {
            "text/plain": [
              "0.7529411764705882"
            ]
          },
          "metadata": {},
          "execution_count": 39
        }
      ]
    },
    {
      "cell_type": "code",
      "metadata": {
        "id": "NxIGg9uihLTO"
      },
      "source": [
        "from sklearn.metrics import recall_score"
      ],
      "execution_count": null,
      "outputs": []
    },
    {
      "cell_type": "code",
      "metadata": {
        "colab": {
          "base_uri": "https://localhost:8080/"
        },
        "id": "UFh-d6ymhLU2",
        "outputId": "4dc7caf1-e9c4-4b91-d2af-c0d820a2224d"
      },
      "source": [
        "recall_score(y_test, y_pred)"
      ],
      "execution_count": null,
      "outputs": [
        {
          "output_type": "execute_result",
          "data": {
            "text/plain": [
              "0.8888888888888888"
            ]
          },
          "metadata": {},
          "execution_count": 41
        }
      ]
    },
    {
      "cell_type": "code",
      "metadata": {
        "id": "z_XWSh8shLZo"
      },
      "source": [
        "from sklearn.metrics import f1_score"
      ],
      "execution_count": null,
      "outputs": []
    },
    {
      "cell_type": "code",
      "metadata": {
        "id": "uWUJpC2whSTP",
        "colab": {
          "base_uri": "https://localhost:8080/"
        },
        "outputId": "c311d9e8-0c57-4acf-a35b-36e7a1eadcb2"
      },
      "source": [
        " f1_score(y_test, y_pred)"
      ],
      "execution_count": null,
      "outputs": [
        {
          "output_type": "execute_result",
          "data": {
            "text/plain": [
              "0.8152866242038216"
            ]
          },
          "metadata": {},
          "execution_count": 43
        }
      ]
    }
  ]
}